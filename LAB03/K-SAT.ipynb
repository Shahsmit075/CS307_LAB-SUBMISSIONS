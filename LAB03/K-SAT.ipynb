{
  "nbformat": 4,
  "nbformat_minor": 0,
  "metadata": {
    "colab": {
      "provenance": []
    },
    "kernelspec": {
      "name": "python3",
      "display_name": "Python 3"
    },
    "language_info": {
      "name": "python"
    }
  },
  "cells": [
    {
      "cell_type": "code",
      "execution_count": 1,
      "metadata": {
        "id": "GEFECBwwa0Dr"
      },
      "outputs": [],
      "source": [
        "from string import ascii_lowercase\n",
        "import random\n",
        "from itertools import combinations\n",
        "import numpy as np"
      ]
    },
    {
      "cell_type": "code",
      "source": [
        "def creatproblem(n,k,m):\n",
        "        positive_var = list(ascii_lowercase)[:n]\n",
        "        negative_var = [var.upper() for var in positive_var]\n",
        "        variables = positive_var + negative_var\n",
        "        problem = []\n",
        "        threshold = 10\n",
        "        i = 0\n",
        "        comb = list(combinations(variables,k))\n",
        "\n",
        "        while i<threshold:\n",
        "            c = random.sample(comb,m)\n",
        "            if c not in problem:\n",
        "                problem.append(c)\n",
        "                i += 1\n",
        "\n",
        "        problems_new = []\n",
        "        for c in problem:\n",
        "            temp = []\n",
        "            temp = [list(sub) for sub in c]\n",
        "            problems_new.append(temp)\n",
        "        return  variables,problems_new"
      ],
      "metadata": {
        "id": "2-RpL9Nma1oQ"
      },
      "execution_count": 2,
      "outputs": []
    },
    {
      "cell_type": "code",
      "source": [
        "def random_assign(variables,n):\n",
        "    litral = list(np.random.choice(2,n))\n",
        "    negation = [abs(i-1) for i in litral]\n",
        "    assign = litral + negation\n",
        "    return dict(zip(variables,assign))"
      ],
      "metadata": {
        "id": "Do_OxqnNa79y"
      },
      "execution_count": 3,
      "outputs": []
    },
    {
      "cell_type": "code",
      "source": [
        "n = 5\n",
        "k = 3\n",
        "m = 3\n",
        "var,prob = creatproblem(n,k,m)\n",
        "print(var)\n",
        "for i in prob:\n",
        "    print(i)"
      ],
      "metadata": {
        "colab": {
          "base_uri": "https://localhost:8080/"
        },
        "id": "_QoEOcy2bFg0",
        "outputId": "7ddbb01b-7ce0-484d-ae98-404bf54891a1"
      },
      "execution_count": 9,
      "outputs": [
        {
          "output_type": "stream",
          "name": "stdout",
          "text": [
            "['a', 'b', 'c', 'd', 'e', 'A', 'B', 'C', 'D', 'E']\n",
            "[['c', 'e', 'A'], ['c', 'd', 'B'], ['c', 'B', 'E']]\n",
            "[['a', 'c', 'B'], ['b', 'c', 'B'], ['a', 'c', 'E']]\n",
            "[['a', 'B', 'C'], ['a', 'e', 'B'], ['d', 'B', 'C']]\n",
            "[['c', 'B', 'D'], ['a', 'd', 'A'], ['b', 'A', 'C']]\n",
            "[['d', 'e', 'A'], ['b', 'C', 'E'], ['d', 'B', 'D']]\n",
            "[['e', 'B', 'D'], ['d', 'B', 'D'], ['B', 'C', 'E']]\n",
            "[['c', 'd', 'e'], ['d', 'B', 'E'], ['B', 'C', 'E']]\n",
            "[['c', 'e', 'D'], ['B', 'C', 'D'], ['a', 'd', 'B']]\n",
            "[['a', 'A', 'D'], ['c', 'd', 'E'], ['a', 'c', 'E']]\n",
            "[['c', 'D', 'E'], ['b', 'd', 'e'], ['e', 'B', 'E']]\n"
          ]
        }
      ]
    },
    {
      "cell_type": "code",
      "source": [
        "print(random_assign(var,n))"
      ],
      "metadata": {
        "colab": {
          "base_uri": "https://localhost:8080/"
        },
        "id": "9R65Ec_cbI3w",
        "outputId": "f9d5fa18-4ae9-46ef-9a5e-d8c02d0a1ef8"
      },
      "execution_count": 10,
      "outputs": [
        {
          "output_type": "stream",
          "name": "stdout",
          "text": [
            "{'a': 0, 'b': 1, 'c': 1, 'd': 1, 'e': 0, 'A': 1, 'B': 0, 'C': 0, 'D': 0, 'E': 1}\n"
          ]
        }
      ]
    },
    {
      "cell_type": "code",
      "source": [],
      "metadata": {
        "id": "HJKwDDrobPjg"
      },
      "execution_count": null,
      "outputs": []
    }
  ]
}