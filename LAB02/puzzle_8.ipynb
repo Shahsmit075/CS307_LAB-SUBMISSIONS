{
  "cells": [
    {
      "cell_type": "code",
      "execution_count": 1,
      "metadata": {
        "id": "vhgvsAL9XQPW"
      },
      "outputs": [],
      "source": [
        "import numpy as np\n",
        "import sys\n",
        "from time import time"
      ]
    },
    {
      "cell_type": "code",
      "execution_count": 2,
      "metadata": {
        "id": "WhzxY4ajXTuK"
      },
      "outputs": [],
      "source": [
        "class PriorityQueue():\n",
        "\n",
        "    def __init__(self):\n",
        "        self.queue = []\n",
        "\n",
        "    def push(self, node):\n",
        "        self.queue.append(node)\n",
        "\n",
        "    def pop(self):\n",
        "\n",
        "        next_state = None\n",
        "        state_cost = 10**18\n",
        "        index = -1\n",
        "\n",
        "        for i in range(len(self.queue)):\n",
        "\n",
        "            if self.queue[i].cost<state_cost:\n",
        "                state_cost = self.queue[i].cost\n",
        "                index = i\n",
        "\n",
        "        return self.queue.pop(index)\n",
        "\n",
        "    def is_empty(self):\n",
        "\n",
        "        return len(self.queue)==0\n",
        "\n",
        "    def __str__(self):\n",
        "        l = []\n",
        "        for i in self.queue:\n",
        "            l.append(i.state)\n",
        "\n",
        "        return str(l)\n",
        "\n",
        "    def __len__(self):\n",
        "        return len(self.queue)"
      ]
    },
    {
      "cell_type": "code",
      "execution_count": 3,
      "metadata": {
        "id": "mJqFvgmvXbk0"
      },
      "outputs": [],
      "source": [
        "class Node:\n",
        "    def __init__(self, parent, state, pcost, hcost):\n",
        "\n",
        "        self.parent = parent\n",
        "        self.state = state\n",
        "        self.pcost = pcost\n",
        "        self.hcost = hcost\n",
        "        self.cost = pcost + hcost\n",
        "\n",
        "    def __hash__(self):\n",
        "\n",
        "        return hash(''.join(self.state.flatten()))\n",
        "\n",
        "    def __str__(self):\n",
        "        return str(self.state)\n",
        "\n",
        "    def __eq__(self, other):\n",
        "\n",
        "        return hash(''.join(self.state.flatten())) == hash(''.join(other.state.flatten()))\n",
        "\n",
        "    def __ne__(self, other):\n",
        "        return hash(''.join(self.state.flatten())) != hash(''.join(other.state.flatten()))"
      ]
    },
    {
      "cell_type": "code",
      "execution_count": 4,
      "metadata": {
        "id": "lo2REAGBXemV"
      },
      "outputs": [],
      "source": [
        "class Environment():\n",
        "\n",
        "    def __init__(self, depth = None, goal_state = None):\n",
        "        self.actions = [1,2,3,4] \n",
        "        self.goal_state = goal_state\n",
        "        self.depth = depth\n",
        "        self.start_state = self.generate_start_state()\n",
        "\n",
        "    def generate_start_state(self):\n",
        "\n",
        "        past_state = self.goal_state\n",
        "        i=0\n",
        "        while i!= self.depth:\n",
        "            new_states = self.get_next_states(past_state)\n",
        "            choice = np.random.randint(low=0, high=len(new_states))\n",
        "\n",
        "            if np.array_equal(new_states[choice], past_state):\n",
        "                continue\n",
        "\n",
        "            past_state = new_states[choice]\n",
        "            i+=1\n",
        "\n",
        "        return past_state\n",
        "\n",
        "    def get_start_state(self):\n",
        "        return self.start_state\n",
        "\n",
        "    def get_goal_state(self):\n",
        "        return self.goal_state\n",
        "\n",
        "    def get_next_states(self, state):\n",
        "\n",
        "        space = (0,0)\n",
        "        for i in range(3):\n",
        "            for j in range(3):\n",
        "                if state[i,j] == '_':\n",
        "                    space = (i,j)\n",
        "                    break\n",
        "\n",
        "        new_states = []\n",
        "\n",
        "        # Movements\n",
        "        if space[0] > 0:\n",
        "            new_state = np.copy(state)\n",
        "\n",
        "            val = new_state[space[0], space[1]]\n",
        "            new_state[space[0], space[1]]  = new_state[space[0]-1, space[1]]\n",
        "            new_state[space[0]-1, space[1]] = val\n",
        "\n",
        "            new_states.append(new_state)\n",
        "\n",
        "        if space[0] < 2: \n",
        "            new_state = np.copy(state)\n",
        "\n",
        "            val = new_state[space[0], space[1]]\n",
        "            new_state[space[0], space[1]]  = new_state[space[0]+1, space[1]]\n",
        "            new_state[space[0]+1, space[1]] = val\n",
        "\n",
        "            new_states.append(new_state)\n",
        "\n",
        "        if space[1]<2: \n",
        "            new_state = np.copy(state)\n",
        "\n",
        "            val = new_state[space[0], space[1]]\n",
        "            new_state[space[0], space[1]] = new_state[space[0], space[1]+1]\n",
        "            new_state[space[0], space[1]+1] = val\n",
        "\n",
        "            new_states.append(new_state)\n",
        "\n",
        "        if space[1] > 0: \n",
        "            new_state = np.copy(state)\n",
        "\n",
        "            val = new_state[space[0], space[1]]\n",
        "            new_state[space[0], space[1]] = new_state[space[0], space[1]-1]\n",
        "            new_state[space[0], space[1]-1] = val\n",
        "\n",
        "            new_states.append(new_state)\n",
        "\n",
        "        return new_states\n",
        "\n",
        "    def reached_goal(self, state):\n",
        "\n",
        "        for i in range(3):\n",
        "            for j in range(3):\n",
        "                if state[i,j] != self.goal_state[i,j]:\n",
        "                    return False\n",
        "\n",
        "        return True"
      ]
    },
    {
      "cell_type": "code",
      "execution_count": 14,
      "metadata": {
        "id": "aMdlcWdRXk3d"
      },
      "outputs": [],
      "source": [
        "class Agent:\n",
        "\n",
        "    def __init__(self, env, heuristic):\n",
        "        self.frontier = PriorityQueue()\n",
        "        self.explored = dict()\n",
        "        self.start_state = env.get_start_state()\n",
        "        self.goal_state = env.get_goal_state()\n",
        "        self.env = env\n",
        "        self.goal_node = None\n",
        "        self.heuristic = heuristic\n",
        "\n",
        "    def run(self):\n",
        "        init_node = Node(parent = None, state = self.start_state, pcost = 0, hcost=0)\n",
        "        self.frontier.push(init_node)\n",
        "        steps = 0\n",
        "        while not self.frontier.is_empty():\n",
        "\n",
        "            curr_node = self.frontier.pop()\n",
        "            #print(curr_node.cost)\n",
        "            next_states = self.env.get_next_states(curr_node.state)\n",
        "\n",
        "            if hash(curr_node) in self.explored:\n",
        "                continue\n",
        "\n",
        "            self.explored[hash(curr_node)] = curr_node\n",
        "\n",
        "            if self.env.reached_goal(curr_node.state):\n",
        "                #print(\"Reached goal!\")\n",
        "                self.goal_node = curr_node\n",
        "                break\n",
        "            goal_state = self.env.get_goal_state()\n",
        "\n",
        "            l = []\n",
        "            for state in next_states:\n",
        "\n",
        "                hcost = self.heuristic(state, goal_state)\n",
        "                node = Node(parent=curr_node, state=state, pcost=curr_node.pcost+1, hcost=hcost)\n",
        "                self.frontier.push(node)\n",
        "            steps += 1\n",
        "\n",
        "        # print(\"Total Nodes Popped:\", steps)\n",
        "        # print(\"Steps to reach to solution:\", self.soln_depth())\n",
        "        return steps, self.soln_depth()\n",
        "\n",
        "    def soln_depth(self):\n",
        "        node = self.goal_node\n",
        "        count = 0\n",
        "        while node is not None:\n",
        "            node = node.parent\n",
        "            count+=1\n",
        "\n",
        "        return count\n",
        "\n",
        "    def print_nodes(self):\n",
        "\n",
        "        node = self.goal_node\n",
        "        l = []\n",
        "        while node is not None:\n",
        "            l.append(node)\n",
        "            node = node.parent\n",
        "\n",
        "        step = 1\n",
        "        for node in l[::-1]:\n",
        "            print(\"Step: \",step)\n",
        "            print(node)\n",
        "            step+=1\n",
        "\n",
        "    def get_memory(self):\n",
        "\n",
        "        mem = len(self.frontier)*56 + len(self.explored)*56\n",
        "        return mem"
      ]
    },
    {
      "cell_type": "code",
      "execution_count": 15,
      "metadata": {
        "id": "ny4HuKmjXpy6"
      },
      "outputs": [],
      "source": [
        "# heuristic0\n",
        "def heuristic0(curr_state, goal_state):\n",
        "    return 0\n",
        "\n",
        "# heuristic1\n",
        "def heuristic1(curr_state, goal_state):\n",
        "\n",
        "    count = 0\n",
        "\n",
        "    for i in range(3):\n",
        "        for j in range(3):\n",
        "            if curr_state[i, j]!=goal_state[i,j]:\n",
        "                count+=1\n",
        "\n",
        "    return count\n",
        "\n",
        "# heuristic2\n",
        "def heuristic2(curr_state, goal_state):\n",
        "\n",
        "    dist = 0\n",
        "\n",
        "    for i in range(3):\n",
        "        for j in range(3):\n",
        "            ele = curr_state[i, j]\n",
        "            goal_i, goal_j = np.where(goal_state==ele)\n",
        "            d = abs(goal_i[0] - i) + abs(goal_j[0] - j)\n",
        "            dist += d\n",
        "\n",
        "    return dist"
      ]
    },
    {
      "cell_type": "code",
      "execution_count": 16,
      "metadata": {
        "colab": {
          "base_uri": "https://localhost:8080/"
        },
        "id": "7lZNkLDiX8TM",
        "outputId": "91425d6d-047c-42aa-ce95-96e6c41a3e9c"
      },
      "outputs": [
        {
          "name": "stdout",
          "output_type": "stream",
          "text": [
            "Start State: \n",
            "[['1' '4' '2']\n",
            " ['7' '_' '3']\n",
            " ['6' '8' '5']]\n",
            "Goal State: \n",
            "[['1' '2' '3']\n",
            " ['8' '_' '4']\n",
            " ['7' '6' '5']]\n"
          ]
        }
      ],
      "source": [
        "depth = 50\n",
        "goal_state = np.array([[1,2,3], [8,'_',4], [7,6,5]])\n",
        "env = Environment(depth, goal_state)\n",
        "print(\"Start State: \")\n",
        "print(env.get_start_state())\n",
        "print(\"Goal State: \")\n",
        "print(goal_state)"
      ]
    },
    {
      "cell_type": "code",
      "execution_count": 17,
      "metadata": {
        "colab": {
          "base_uri": "https://localhost:8080/"
        },
        "id": "KK8DNHgZYAzY",
        "outputId": "7e9a2689-3c12-4015-8ade-6de0970f6633"
      },
      "outputs": [
        {
          "data": {
            "text/plain": [
              "(13, 9)"
            ]
          },
          "execution_count": 17,
          "metadata": {},
          "output_type": "execute_result"
        }
      ],
      "source": [
        "agent = Agent(env = env, heuristic = heuristic2)\n",
        "agent.run()"
      ]
    },
    {
      "cell_type": "code",
      "execution_count": 20,
      "metadata": {
        "colab": {
          "base_uri": "https://localhost:8080/"
        },
        "id": "rJ3KHgbkYwcq",
        "outputId": "e2bf8e4e-5df3-43c5-fa4f-55c5cd1d3795"
      },
      "outputs": [
        {
          "name": "stdout",
          "output_type": "stream",
          "text": [
            "Depth      Avg Time (s)    Avg Memory (MB)\n",
            "-----------------------------------\n",
            "0          0.00004         56.00     \n",
            "50         0.03484         17914.40  \n",
            "100        0.18185         55487.04  \n",
            "150        0.46079         102912.32 \n",
            "200        0.39818         96759.04  \n",
            "250        0.40829         109572.96 \n"
          ]
        }
      ],
      "source": [
        "depths = np.arange(0, 251, 50)\n",
        "goal_state = np.array([[1, 2, 3], [8, '_', 4], [7, 6, 5]])\n",
        "times_taken = {}\n",
        "mems = {}\n",
        "\n",
        "# Simulate data\n",
        "for depth in depths:\n",
        "    time_taken = 0\n",
        "    mem = 0\n",
        "    for i in range(50):\n",
        "        env = Environment(depth=depth, goal_state=goal_state)\n",
        "        agent = Agent(env=env, heuristic=heuristic2)\n",
        "        start_time = time()\n",
        "        agent.run()\n",
        "        end_time = time()\n",
        "        time_taken += end_time - start_time\n",
        "        mem += agent.get_memory()\n",
        "\n",
        "    time_taken /= 50\n",
        "    mem /= 50\n",
        "    times_taken[depth] = time_taken\n",
        "    mems[depth] = mem\n",
        "\n",
        "# Print the results in tabular format\n",
        "print(\"{:<10} {:<15} {:<10}\".format('Depth', 'Avg Time (s)', 'Avg Memory (MB)'))\n",
        "print(\"-\" * 35)\n",
        "\n",
        "for depth in depths:\n",
        "    print(\"{:<10} {:<15.5f} {:<10.2f}\".format(depth, times_taken[depth], mems[depth]))"
      ]
    },
    {
      "cell_type": "code",
      "execution_count": null,
      "metadata": {
        "id": "mwMUJVS2ZP10"
      },
      "outputs": [],
      "source": []
    }
  ],
  "metadata": {
    "colab": {
      "provenance": []
    },
    "kernelspec": {
      "display_name": "Python 3",
      "name": "python3"
    },
    "language_info": {
      "name": "python"
    }
  },
  "nbformat": 4,
  "nbformat_minor": 0
}
